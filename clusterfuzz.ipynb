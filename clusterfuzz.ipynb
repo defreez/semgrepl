{
 "metadata": {
  "language_info": {
   "codemirror_mode": {
    "name": "ipython",
    "version": 3
   },
   "file_extension": ".py",
   "mimetype": "text/x-python",
   "name": "python",
   "nbconvert_exporter": "python",
   "pygments_lexer": "ipython3",
   "version": "3.8.2-final"
  },
  "orig_nbformat": 2,
  "kernelspec": {
   "name": "python_defaultSpec_1597692825331",
   "display_name": "Python 3.8.2 64-bit"
  }
 },
 "nbformat": 4,
 "nbformat_minor": 2,
 "cells": [
  {
   "cell_type": "code",
   "execution_count": 193,
   "metadata": {},
   "outputs": [],
   "source": [
    "import semgrep.semgrep_main\n",
    "from typing import List\n",
    "from io import StringIO\n",
    "from semgrep.output import OutputHandler\n",
    "from semgrep.output import OutputSettings\n",
    "from semgrep.constants import OutputFormat\n",
    "import json"
   ]
  },
  {
   "cell_type": "code",
   "execution_count": 194,
   "metadata": {},
   "outputs": [],
   "source": [
    "def semgrep_pattern(pattern: str, targets: List[str]):\n",
    "    io_capture = StringIO()\n",
    "    output_handler = OutputHandler(\n",
    "        OutputSettings(\n",
    "            output_format=OutputFormat.JSON,\n",
    "            output_destination=None,\n",
    "            error_on_findings=False,\n",
    "            strict=False,\n",
    "        ),\n",
    "        stdout=io_capture,\n",
    "    )\n",
    "    semgrep.semgrep_main.main(\n",
    "        output_handler=output_handler,\n",
    "        target=[str(t) for t in targets],\n",
    "        pattern=pattern,\n",
    "        config=\"\",\n",
    "        lang=\"python\")\n",
    "    output_handler.close()\n",
    "    return json.loads(io_capture.getvalue())"
   ]
  },
  {
   "cell_type": "code",
   "execution_count": 195,
   "metadata": {},
   "outputs": [],
   "source": [
    "# Copied from clusterfuzz server_flask.py\n",
    "# Right hand converted to strings by hand\n",
    "handlers = [\n",
    "#    ('/', home.Handler if _is_oss_fuzz else testcase_list.Handler),\n",
    "    ('/bots', \"bots.Handler\"),\n",
    "    ('/bots/dead', \"bots.DeadBotsHandler\"),\n",
    "    ('/configuration', \"configuration.Handler\"),\n",
    "    ('/add-external-user-permission', \"configuration.AddExternalUserPermission\"),\n",
    "    ('/delete-external-user-permission', \"configuration.DeleteExternalUserPermission\"),\n",
    "    ('/crash-stats/load', \"crash_stats.JsonHandler\"),\n",
    "    ('/crash-stats', \"crash_stats.Handler\"),\n",
    "    ('/corpora', \"corpora.Handler\"),\n",
    "    ('/corpora/create', \"corpora.CreateHandler\"),\n",
    "    ('/corpora/delete', \"corpora.DeleteHandler\"),\n",
    "    ('/docs', \"help_redirector.DocumentationHandler\"),\n",
    "    ('/download', \"download.Handler\"),\n",
    "    ('/download/<resource>', \"download.Handler\"),\n",
    "    ('/fuzzers', \"fuzzers.Handler\"),\n",
    "    ('/fuzzers/create', \"fuzzers.CreateHandler\"),\n",
    "    ('/fuzzers/delete', \"fuzzers.DeleteHandler\"),\n",
    "    ('/fuzzers/edit', \"fuzzers.EditHandler\"),\n",
    "    ('/fuzzers/log/<fuzzer_name>', \"fuzzers.LogHandler\"),\n",
    "    ('/issue', \"issue_redirector.Handler\"),\n",
    "    ('/issue/<testcase_id>', \"issue_redirector.Handler\"),\n",
    "    ('/jobs', \"jobs.Handler\"),\n",
    "    ('/jobs/load', \"jobs.JsonHandler\"),\n",
    "    ('/jobs/delete-job', \"jobs.DeleteJobHandler\"),\n",
    "    ('/login', \"login.Handler\"),\n",
    "    ('/logout', \"login.LogoutHandler\"),\n",
    "    ('/report-bug', \"help_redirector.ReportBugHandler\"),\n",
    "    ('/session-login', \"login.SessionLoginHandler\"),\n",
    "    ('/testcase', \"show_testcase.DeprecatedHandler\"),\n",
    "    ('/testcase-detail', \"show_testcase.Handler\"),\n",
    "    ('/testcase-detail/<int:testcase_id>', \"show_testcase.Handler\"),\n",
    "    ('/testcase-detail/crash-stats', \"crash_stats_on_testcase.Handler\"),\n",
    "    ('/testcase-detail/create-issue', \"create_issue.Handler\"),\n",
    "    ('/testcase-detail/delete', \"delete.Handler\"),\n",
    "    ('/testcase-detail/download-testcase', \"download_testcase.Handler\"),\n",
    "    ('/testcase-detail/find-similar-issues', \"find_similar_issues.Handler\"),\n",
    "    ('/testcase-detail/mark-fixed', \"mark_fixed.Handler\"),\n",
    "    ('/testcase-detail/mark-security', \"mark_security.Handler\"),\n",
    "    ('/testcase-detail/mark-unconfirmed', \"mark_unconfirmed.Handler\"),\n",
    "    ('/testcase-detail/redo', \"redo.Handler\"),\n",
    "    ('/testcase-detail/refresh', \"show_testcase.RefreshHandler\"),\n",
    "    ('/testcase-detail/remove-duplicate', \"remove_duplicate.Handler\"),\n",
    "    ('/testcase-detail/remove-issue', \"remove_issue.Handler\"),\n",
    "    ('/testcase-detail/remove-group', \"remove_group.Handler\"),\n",
    "    ('/testcase-detail/testcase-variants', \"testcase_variants.Handler\"),\n",
    "    ('/testcase-detail/update-from-trunk', \"update_from_trunk.Handler\"),\n",
    "    ('/testcase-detail/update-issue', \"update_issue.Handler\"),\n",
    "    ('/testcases', \"testcase_list.Handler\"),\n",
    "    ('/testcases/load', \"testcase_list.JsonHandler\"),\n",
    "    ('/upload-testcase', \"upload_testcase.Handler\"),\n",
    "    ('/upload-testcase/get-url-oauth', \"upload_testcase.UploadUrlHandlerOAuth\"),\n",
    "    ('/upload-testcase/prepare', \"upload_testcase.PrepareUploadHandler\"),\n",
    "    ('/upload-testcase/load', \"upload_testcase.JsonHandler\"),\n",
    "    ('/upload-testcase/upload', \"upload_testcase.UploadHandler\"),\n",
    "    ('/upload-testcase/upload-oauth', \"upload_testcase.UploadHandlerOAuth\"),\n",
    "    ('/update-job', \"jobs.UpdateJob\"),\n",
    "    ('/update-job-template', \"jobs.UpdateJobTemplate\"),\n",
    "]"
   ]
  },
  {
   "cell_type": "code",
   "execution_count": null,
   "metadata": {},
   "outputs": [],
   "source": [
    "# TODO: Turn this into a semgrep rule that extracts import names -> directories + filenames\n",
    "# Result is class name to file name dictionary\n",
    "def mangle_import_name(module_name):\n",
    "    #from handlers.testcase_detail import (crash_stats as crash_stats_on_testcase)\n",
    "    #from handlers.testcase_detail import (show as show_testcase)\n",
    "    if module_name == \"show_testcase\":\n",
    "        return \"testcase_detail/show\"\n",
    "    elif module_name == \"crash_stats_on_testcase\":\n",
    "        return \"crash_stats\"\n",
    "    elif module_name == \"create_issue\":\n",
    "        return \"testcase_detail/create_issue\"\n",
    "    elif module_name == \"delete\":\n",
    "        return \"testcase_detail/delete\"\n",
    "    elif module_name == \"download_testcase\":\n",
    "        return \"testcase_detail/download_testcase\"\n",
    "    elif module_name == \"find_similar_issues\":\n",
    "        return \"testcase_detail/find_similar_issues\"\n",
    "    elif module_name == \"mark_fixed\":\n",
    "        return \"testcase_detail/mark_fixed\"\n",
    "    elif module_name == \"mark_security\":\n",
    "        return \"testcase_detail/mark_security\"\n",
    "    elif module_name == \"mark_unconfirmed\":\n",
    "        return \"testcase_detail/mark_unconfirmed\"\n",
    "    elif module_name == \"redo\":\n",
    "        return \"testcase_detail/redo\"\n",
    "    elif module_name == \"remove_duplicate\":\n",
    "        return \"testcase_detail/remove_duplicate\"\n",
    "    elif module_name == \"remove_group\":\n",
    "        return \"testcase_detail/remove_group\"\n",
    "    elif module_name == \"remove_issue\":\n",
    "        return \"testcase_detail/remove_issue\"\n",
    "    elif module_name == \"testcase_variants\":\n",
    "        return \"testcase_detail/testcase_variants\"\n",
    "    elif module_name == \"update_from_trunk\":\n",
    "        return \"testcase_detail/update_from_trunk\"\n",
    "    elif module_name == \"update_issue\":\n",
    "        return \"testcase_detail/update_issue\"\n",
    "    else:\n",
    "        return module_name\n"
   ]
  },
  {
   "cell_type": "code",
   "execution_count": 241,
   "metadata": {
    "tags": []
   },
   "outputs": [
    {
     "output_type": "stream",
     "name": "stdout",
     "text": "('/bots', 'bots.Handler')\nclass Handler:\n\tdef post(self):\n\t\t...\n\n('/bots/dead', 'bots.DeadBotsHandler')\nclass DeadBotsHandler:\n\tdef post(self):\n\t\t...\n\n('/configuration', 'configuration.Handler')\nclass Handler:\n\tdef post(self):\n\t\t...\n\n('/add-external-user-permission', 'configuration.AddExternalUserPermission')\nclass AddExternalUserPermission:\n\tdef post(self):\n\t\t...\n\n('/delete-external-user-permission', 'configuration.DeleteExternalUserPermission')\nclass DeleteExternalUserPermission:\n\tdef post(self):\n\t\t...\n\n('/crash-stats/load', 'crash_stats.JsonHandler')\nclass JsonHandler:\n\tdef post(self):\n\t\t...\n\n('/crash-stats', 'crash_stats.Handler')\nclass Handler:\n\tdef post(self):\n\t\t...\n\n('/corpora', 'corpora.Handler')\nclass Handler:\n\tdef post(self):\n\t\t...\n\n('/corpora/create', 'corpora.CreateHandler')\nclass CreateHandler:\n\tdef post(self):\n\t\t...\n\n('/corpora/delete', 'corpora.DeleteHandler')\nclass DeleteHandler:\n\tdef post(self):\n\t\t...\n\n('/docs', 'help_redirector.DocumentationHandler')\nclass DocumentationHandler:\n\tdef post(self):\n\t\t...\n\n('/download', 'download.Handler')\nclass Handler:\n\tdef post(self):\n\t\t...\n\n('/download/<resource>', 'download.Handler')\nclass Handler:\n\tdef post(self):\n\t\t...\n\n('/fuzzers', 'fuzzers.Handler')\nclass Handler:\n\tdef post(self):\n\t\t...\n\n('/fuzzers/create', 'fuzzers.CreateHandler')\nclass CreateHandler:\n\tdef post(self):\n\t\t...\n\n('/fuzzers/delete', 'fuzzers.DeleteHandler')\nclass DeleteHandler:\n\tdef post(self):\n\t\t...\n\n('/fuzzers/edit', 'fuzzers.EditHandler')\nclass EditHandler:\n\tdef post(self):\n\t\t...\n\n('/fuzzers/log/<fuzzer_name>', 'fuzzers.LogHandler')\nclass LogHandler:\n\tdef post(self):\n\t\t...\n\n('/issue', 'issue_redirector.Handler')\nclass Handler:\n\tdef post(self):\n\t\t...\n\n('/issue/<testcase_id>', 'issue_redirector.Handler')\nclass Handler:\n\tdef post(self):\n\t\t...\n\n('/jobs', 'jobs.Handler')\nclass Handler:\n\tdef post(self):\n\t\t...\n\n('/jobs/load', 'jobs.JsonHandler')\nclass JsonHandler:\n\tdef post(self):\n\t\t...\n\n('/jobs/delete-job', 'jobs.DeleteJobHandler')\nclass DeleteJobHandler:\n\tdef post(self):\n\t\t...\n\n('/login', 'login.Handler')\nclass Handler:\n\tdef post(self):\n\t\t...\n\n('/logout', 'login.LogoutHandler')\nclass LogoutHandler:\n\tdef post(self):\n\t\t...\n\n('/report-bug', 'help_redirector.ReportBugHandler')\nclass ReportBugHandler:\n\tdef post(self):\n\t\t...\n\n('/session-login', 'login.SessionLoginHandler')\nclass SessionLoginHandler:\n\tdef post(self):\n\t\t...\n\n('/testcase', 'show_testcase.DeprecatedHandler')\nclass DeprecatedHandler:\n\tdef post(self):\n\t\t...\n\n('/testcase-detail', 'show_testcase.Handler')\nclass Handler:\n\tdef post(self):\n\t\t...\n\n('/testcase-detail/<int:testcase_id>', 'show_testcase.Handler')\nclass Handler:\n\tdef post(self):\n\t\t...\n\n('/testcase-detail/crash-stats', 'crash_stats_on_testcase.Handler')\nclass Handler:\n\tdef post(self):\n\t\t...\n\n('/testcase-detail/create-issue', 'create_issue.Handler')\nclass Handler:\n\tdef post(self):\n\t\t...\n\n('/testcase-detail/delete', 'delete.Handler')\nclass Handler:\n\tdef post(self):\n\t\t...\n\n('/testcase-detail/download-testcase', 'download_testcase.Handler')\nclass Handler:\n\tdef post(self):\n\t\t...\n\n('/testcase-detail/find-similar-issues', 'find_similar_issues.Handler')\nclass Handler:\n\tdef post(self):\n\t\t...\n\n('/testcase-detail/mark-fixed', 'mark_fixed.Handler')\nclass Handler:\n\tdef post(self):\n\t\t...\n\n('/testcase-detail/mark-security', 'mark_security.Handler')\nclass Handler:\n\tdef post(self):\n\t\t...\n\n('/testcase-detail/mark-unconfirmed', 'mark_unconfirmed.Handler')\nclass Handler:\n\tdef post(self):\n\t\t...\n\n('/testcase-detail/redo', 'redo.Handler')\nclass Handler:\n\tdef post(self):\n\t\t...\n\n('/testcase-detail/refresh', 'show_testcase.RefreshHandler')\nclass RefreshHandler:\n\tdef post(self):\n\t\t...\n\n('/testcase-detail/remove-duplicate', 'remove_duplicate.Handler')\nclass Handler:\n\tdef post(self):\n\t\t...\n\n('/testcase-detail/remove-issue', 'remove_issue.Handler')\nclass Handler:\n\tdef post(self):\n\t\t...\n\n('/testcase-detail/remove-group', 'remove_group.Handler')\nclass Handler:\n\tdef post(self):\n\t\t...\n\n('/testcase-detail/testcase-variants', 'testcase_variants.Handler')\nclass Handler:\n\tdef post(self):\n\t\t...\n\n('/testcase-detail/update-from-trunk', 'update_from_trunk.Handler')\nclass Handler:\n\tdef post(self):\n\t\t...\n\n('/testcase-detail/update-issue', 'update_issue.Handler')\nclass Handler:\n\tdef post(self):\n\t\t...\n\n('/testcases', 'testcase_list.Handler')\nclass Handler:\n\tdef post(self):\n\t\t...\n\n('/testcases/load', 'testcase_list.JsonHandler')\nclass JsonHandler:\n\tdef post(self):\n\t\t...\n\n('/upload-testcase', 'upload_testcase.Handler')\nclass Handler:\n\tdef post(self):\n\t\t...\n\n('/upload-testcase/get-url-oauth', 'upload_testcase.UploadUrlHandlerOAuth')\nclass UploadUrlHandlerOAuth:\n\tdef post(self):\n\t\t...\n\n('/upload-testcase/prepare', 'upload_testcase.PrepareUploadHandler')\nclass PrepareUploadHandler:\n\tdef post(self):\n\t\t...\n\n('/upload-testcase/load', 'upload_testcase.JsonHandler')\nclass JsonHandler:\n\tdef post(self):\n\t\t...\n\n('/upload-testcase/upload', 'upload_testcase.UploadHandler')\nclass UploadHandler:\n\tdef post(self):\n\t\t...\n\n('/upload-testcase/upload-oauth', 'upload_testcase.UploadHandlerOAuth')\nclass UploadHandlerOAuth:\n\tdef post(self):\n\t\t...\n\n('/update-job', 'jobs.UpdateJob')\nclass UpdateJob:\n\tdef post(self):\n\t\t...\n\n('/update-job-template', 'jobs.UpdateJobTemplate')\nclass UpdateJobTemplate:\n\tdef post(self):\n\t\t...\n\n"
    }
   ],
   "source": [
    "from collections import defaultdict\n",
    "\n",
    "# TODO: Something with duplicates\n",
    "def construct_pattern(method, class_name):\n",
    "    pattern = \"class {}:\\n\\tdef {}(self):\\n\\t\\t...\\n\".format(class_name, method)\n",
    "    return pattern\n",
    "\n",
    "def extract_annotations(result):\n",
    "    annotations = []\n",
    "    lines = result['extra']['lines']\n",
    "    for l in lines.split(\"\\n\"):\n",
    "        if \"@\" in l:\n",
    "            annotations.append(l.strip())\n",
    "    return annotations\n",
    "\n",
    "# TODO: Separate out get, post, etc.\n",
    "# Make sure that they are stored separately, do not combine multiple methods per Handler class\n",
    "get_to_annotations = defaultdict(list)\n",
    "post_to_annotations = defaultdict(list)\n",
    "\n",
    "# No metavariable for annotations?\n",
    "for handler in handlers:\n",
    "    print(handler)\n",
    "    module_name, class_name = handler[1].split(\".\")\n",
    "    file_name = \"/home/daniel/ppa/semgrep_repl/clusterfuzz/src/appengine/handlers/{}.py\".format(mangle_import_name(module_name))\n",
    "    \n",
    "    pattern = construct_pattern(\"get\", class_name)\n",
    "    # Always assume 0 or 1 result.\n",
    "    results = semgrep_pattern(pattern, [file_name])['results']\n",
    "    assert(len(results) <= 1)\n",
    "    if results == 1:\n",
    "        get_to_annotations[handler[0]] = extract_annotations(results[0])\n",
    "\n",
    "    pattern = construct_pattern(\"post\", class_name)\n",
    "    print(pattern)\n",
    "    results = semgrep_pattern(pattern, [file_name])['results']\n",
    "    assert(len(results) <= 1)\n",
    "    if results:\n",
    "        post_to_annotations[handler[0]] = extract_annotations(results[0])\n"
   ]
  },
  {
   "cell_type": "code",
   "execution_count": 242,
   "metadata": {
    "tags": []
   },
   "outputs": [
    {
     "output_type": "stream",
     "name": "stdout",
     "text": "{'@handler_flask.check_user_access(need_privileged_access=True)', '@handler_flask.check_admin_access_if_oss_fuzz', '@handler_flask.check_admin_access', '@staticmethod', '@handler_flask.post(handler_flask.FORM, handler_flask.JSON)', '@handler_flask.check_user_access(need_privileged_access=False)', '@handler_flask.oauth', '@handler_flask.post(handler_flask.JSON, handler_flask.JSON)', '@handler_flask.get(handler_flask.HTML)', '@handler_flask.post(handler_flask.FORM, handler_flask.HTML)', '@handler_flask.unsupported_on_local_server', '@handler_flask.require_csrf_token', '@handler_flask.get(handler_flask.JSON)'}\n"
    }
   ],
   "source": [
    "all_annotations = set()\n",
    "for r in get_to_annotations:\n",
    "    for a in get_to_annotations[r]:\n",
    "        all_annotations.add(a)\n",
    "for r in post_to_annotations:\n",
    "    for a in post_to_annotations[r]:\n",
    "        all_annotations.add(a)\n",
    "print(all_annotations)"
   ]
  },
  {
   "cell_type": "code",
   "execution_count": 247,
   "metadata": {},
   "outputs": [],
   "source": [
    "auth_map = {\n",
    "    \"@handler_flask.check_user_access(need_privileged_access=True)\": \"privileged user\",\n",
    "    \"@handler_flask.check_admin_access_if_oss_fuzz\": \"oss-fuzz-admin\",\n",
    "    \"@handler_flask.check_admin_access\": \"always-admin\",\n",
    "    \"@handler_flask.check_user_access(need_privileged_access=False)\": \"unprivileged user\",\n",
    "    \"@handler_flask.oauth\": \"logged in\",\n",
    "}"
   ]
  },
  {
   "cell_type": "code",
   "execution_count": 248,
   "metadata": {
    "tags": []
   },
   "outputs": [
    {
     "output_type": "stream",
     "name": "stdout",
     "text": "GET /bots ['oss-fuzz-admin', 'unprivileged user']\nGET /bots/dead ['unauth']\nGET /configuration ['always-admin', 'always-admin']\nGET /crash-stats ['unauth']\nGET /corpora ['oss-fuzz-admin', 'unprivileged user']\nGET /docs ['unauth']\nGET /fuzzers ['oss-fuzz-admin', 'unprivileged user']\nGET /jobs ['privileged user']\nGET /login ['unauth']\nGET /logout ['unauth']\nGET /report-bug ['unauth']\nGET /testcase ['unauth']\nGET /testcase-detail/crash-stats ['unauth']\nGET /testcase-detail/download-testcase ['logged in']\nGET /testcases ['unauth']\nGET /upload-testcase ['unauth']\nPOST /configuration ['always-admin', 'always-admin']\nPOST /add-external-user-permission ['always-admin']\nPOST /delete-external-user-permission ['always-admin']\nPOST /crash-stats/load ['unauth']\nPOST /corpora/create ['privileged user']\nPOST /corpora/delete ['privileged user']\nPOST /fuzzers/create ['privileged user']\nPOST /fuzzers/delete ['privileged user']\nPOST /fuzzers/edit ['privileged user']\nPOST /jobs/load ['privileged user']\nPOST /jobs/delete-job ['privileged user']\nPOST /session-login ['unauth']\nPOST /testcase-detail/delete ['always-admin']\nPOST /testcase-detail/mark-fixed ['always-admin']\nPOST /testcase-detail/mark-security ['always-admin']\nPOST /testcase-detail/mark-unconfirmed ['always-admin']\nPOST /testcase-detail/refresh ['logged in']\nPOST /testcase-detail/remove-duplicate ['always-admin']\nPOST /testcase-detail/remove-issue ['always-admin']\nPOST /testcase-detail/remove-group ['always-admin']\nPOST /testcases/load ['logged in']\nPOST /upload-testcase/get-url-oauth ['logged in', 'unprivileged user']\nPOST /upload-testcase/prepare ['unprivileged user']\nPOST /upload-testcase/load ['unauth']\nPOST /upload-testcase/upload ['unauth']\nPOST /update-job ['privileged user']\nPOST /update-job-template ['privileged user']\n"
    }
   ],
   "source": [
    "def annotation_list_to_auth(annotations):\n",
    "    auth = []\n",
    "    for a in annotations:\n",
    "        if a in auth_map:\n",
    "            auth.append(auth_map[a])\n",
    "    if len(auth) == 0:\n",
    "        auth.append(\"unauth\")\n",
    "    return auth\n",
    "\n",
    "for route in get_to_annotations:\n",
    "    print(\"GET {}\".format(route), annotation_list_to_auth(get_to_annotations[route]))\n",
    "for route in post_to_annotations:\n",
    "    print(\"POST {}\".format(route), annotation_list_to_auth(post_to_annotations[route]))"
   ]
  },
  {
   "cell_type": "code",
   "execution_count": 218,
   "metadata": {
    "tags": []
   },
   "outputs": [],
   "source": [
    "# Make sure we resolved every route\n",
    "for h in handlers:\n",
    "    assert(h[0] in get_to_annotations or h[0] in post_to_annotations)"
   ]
  },
  {
   "cell_type": "code",
   "execution_count": null,
   "metadata": {},
   "outputs": [],
   "source": []
  }
 ]
}